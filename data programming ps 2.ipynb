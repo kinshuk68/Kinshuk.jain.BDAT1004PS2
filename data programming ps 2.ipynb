{
 "cells": [
  {
   "cell_type": "markdown",
   "id": "b57dddf2",
   "metadata": {},
   "source": [
    "\n",
    "# DATA PROGRAMMING :- PROBLEM SET 2\n"
   ]
  },
  {
   "cell_type": "markdown",
   "id": "468816d5",
   "metadata": {},
   "source": [
    "# QUESTION 1"
   ]
  },
  {
   "cell_type": "raw",
   "id": "cd0c5500",
   "metadata": {},
   "source": [
    "ANSWER"
   ]
  },
  {
   "cell_type": "code",
   "execution_count": 4,
   "id": "bbbc108d",
   "metadata": {},
   "outputs": [
    {
     "data": {
      "text/plain": [
       "6"
      ]
     },
     "execution_count": 4,
     "metadata": {},
     "output_type": "execute_result"
    }
   ],
   "source": [
    "a=0\n",
    "def b():\n",
    "    global a\n",
    "    a = c(a)\n",
    "def c(a):\n",
    "    return a + 2\n",
    "\n",
    "b()\n",
    "b()\n",
    "b()\n",
    "a"
   ]
  },
  {
   "cell_type": "markdown",
   "id": "ae319646",
   "metadata": {},
   "source": [
    "1. a = 0 initializes a global variable a with a value of 0.\n",
    "\n",
    "2. The function b() is defined.\n",
    "\n",
    "3. The global a statement inside the function b specifies that the function should use the global variable a.\n",
    "\n",
    "4. In the line a = c(a), the function c(a) is called with the global variable a as an argument, and the result of c(a) is assigned back to the global variable a.\n",
    "\n",
    "5. The function c(a) adds 2 to the value of its argument and returns the result.\n",
    "\n",
    "Now, let's analyze the code execution:\n",
    "\n",
    "1. After the first call to b(), the c(a) function is invoked with a as 0. The result is 2, and this value is assigned to the global variable a. So, a becomes 2.\n",
    "\n",
    "2. The second call to b() invokes c(a) again, this time with a as 2. The result is 4, which is assigned back to the global variable a. Therefore, a becomes 4.\n",
    "\n",
    "3. The third call to b() invokes c(a) with a as 4, resulting in a value of 6. This value is assigned to the global variable a. As a result, a becomes 6.\n",
    "\n",
    "In the end, when i evaluate a, it will display the value 6 because each call to the b() function updates the global variable a."
   ]
  },
  {
   "cell_type": "markdown",
   "id": "9effbd5a",
   "metadata": {},
   "source": [
    "# QUESTION 2"
   ]
  },
  {
   "cell_type": "raw",
   "id": "06d2e4d0",
   "metadata": {},
   "source": [
    "ANSWER"
   ]
  },
  {
   "cell_type": "code",
   "execution_count": 53,
   "id": "dd710f4f",
   "metadata": {},
   "outputs": [
    {
     "name": "stdout",
     "output_type": "stream",
     "text": [
      "358\n",
      "File idterm.py not found.\n"
     ]
    }
   ],
   "source": [
    "import os\n",
    "\n",
    "def fileLength(filename):\n",
    "    full_path = os.path.join('Downloads', filename)\n",
    "    try:\n",
    "        with open(full_path, 'r') as file:\n",
    "            content = file.read()\n",
    "            print(len(content))\n",
    "    except FileNotFoundError:\n",
    "        print(f\"File {filename} not found.\")\n",
    "    except Exception as e:\n",
    "        print(f\"An error occurred: {e}\")\n",
    "\n",
    "fileLength('midterm.py')\n",
    "fileLength('idterm.py')\n"
   ]
  },
  {
   "cell_type": "markdown",
   "id": "a1821506",
   "metadata": {},
   "source": [
    "# QUESTION 3:-"
   ]
  },
  {
   "cell_type": "markdown",
   "id": "25de2486",
   "metadata": {},
   "source": [
    " ANSWER :-\n",
    "    "
   ]
  },
  {
   "cell_type": "code",
   "execution_count": 18,
   "id": "ed527a12",
   "metadata": {},
   "outputs": [
    {
     "name": "stdout",
     "output_type": "stream",
     "text": [
      "['doll', 'firetruck', 'kitten']\n",
      "I am a Kangaroo located at coordinates (0,0)\n",
      "['doll', 'firetruck', 'kitten']\n",
      "I am a Kangaroo located at coordinates (3,0)\n"
     ]
    }
   ],
   "source": [
    "class Marsupial:\n",
    "    def __init__(self):\n",
    "        self.pouch = []\n",
    "\n",
    "    def put_in_pouch(self, item):\n",
    "        self.pouch.append(item)\n",
    "\n",
    "    def pouch_contents(self):\n",
    "        return self.pouch\n",
    "\n",
    "class Kangaroo(Marsupial):\n",
    "    def __init__(self, x, y):\n",
    "        super().__init__()\n",
    "        self.x = x\n",
    "        self.y = y\n",
    "\n",
    "    def jump(self, dx, dy):\n",
    "        self.x += dx\n",
    "        self.y += dy\n",
    "\n",
    "    def __str__(self):\n",
    "        return f\"I am a Kangaroo located at coordinates ({self.x},{self.y})\"\n",
    "\n",
    "    \n",
    "m = Marsupial()\n",
    "m.put_in_pouch('doll')\n",
    "m.put_in_pouch('firetruck')\n",
    "m.put_in_pouch('kitten')\n",
    "print(m.pouch_contents())\n",
    "\n",
    "k = Kangaroo(0, 0)\n",
    "print(k)\n",
    "k.put_in_pouch('doll')\n",
    "k.put_in_pouch('firetruck')\n",
    "k.put_in_pouch('kitten')\n",
    "print(k.pouch_contents())\n",
    "k.jump(1, 0)\n",
    "k.jump(1, 0)\n",
    "k.jump(1, 0)\n",
    "print(k)\n"
   ]
  },
  {
   "cell_type": "markdown",
   "id": "5d9af203",
   "metadata": {},
   "source": [
    "# QUESTION 4:-"
   ]
  },
  {
   "cell_type": "markdown",
   "id": "339be709",
   "metadata": {},
   "source": [
    "ANSWER:"
   ]
  },
  {
   "cell_type": "code",
   "execution_count": 20,
   "id": "d63979d5",
   "metadata": {},
   "outputs": [
    {
     "name": "stdout",
     "output_type": "stream",
     "text": [
      "1\n",
      "10\n",
      "5\n",
      "16\n",
      "8\n",
      "4\n",
      "2\n",
      "1\n"
     ]
    }
   ],
   "source": [
    "def collatz(x):\n",
    "    if x == 1:\n",
    "        print(1)\n",
    "    else:\n",
    "        print(x)\n",
    "        if x % 2 == 0:\n",
    "            collatz(x // 2)\n",
    "        else:\n",
    "            collatz(3 * x + 1)\n",
    "\n",
    "\n",
    "collatz(1)\n",
    "collatz(10)\n"
   ]
  },
  {
   "cell_type": "markdown",
   "id": "683d5781",
   "metadata": {},
   "source": [
    "# QUESTION :-5"
   ]
  },
  {
   "cell_type": "markdown",
   "id": "ff3e2af3",
   "metadata": {},
   "source": [
    "ANSWER"
   ]
  },
  {
   "cell_type": "code",
   "execution_count": 21,
   "id": "769f5527",
   "metadata": {},
   "outputs": [
    {
     "name": "stdout",
     "output_type": "stream",
     "text": [
      "0\n",
      "1\n",
      "11\n",
      "1001"
     ]
    }
   ],
   "source": [
    "def binary(n):\n",
    "    if n > 1:\n",
    "        binary(n // 2)\n",
    "    print(n % 2, end='')\n",
    "\n",
    "\n",
    "binary(0)\n",
    "print()  \n",
    "binary(1)\n",
    "print()\n",
    "binary(3)\n",
    "print()\n",
    "binary(9)\n"
   ]
  },
  {
   "cell_type": "markdown",
   "id": "3dc3e9fb",
   "metadata": {},
   "source": [
    "# QUESTION 6"
   ]
  },
  {
   "cell_type": "raw",
   "id": "ab05be06",
   "metadata": {},
   "source": [
    "ANSWER:-"
   ]
  },
  {
   "cell_type": "code",
   "execution_count": 16,
   "id": "06eaf452",
   "metadata": {},
   "outputs": [
    {
     "name": "stdout",
     "output_type": "stream",
     "text": [
      "W3C Mission\n",
      "  Principles\n"
     ]
    }
   ],
   "source": [
    "from html.parser import HTMLParser\n",
    "\n",
    "class HeadingParser(HTMLParser):\n",
    "    def __init__(self):\n",
    "        super().__init__()\n",
    "        self.in_heading = False\n",
    "        self.heading_level = 0\n",
    "\n",
    "    def handle_starttag(self, tag, attrs):\n",
    "        if tag.startswith(\"h\") and tag[1:].isdigit():\n",
    "            self.in_heading = True\n",
    "            self.heading_level = int(tag[1])\n",
    "\n",
    "    def handle_endtag(self, tag):\n",
    "        if self.in_heading:\n",
    "            self.in_heading = False\n",
    "\n",
    "    def handle_data(self, data):\n",
    "        if self.in_heading:\n",
    "            \n",
    "            indentation = \"  \" * (self.heading_level - 1)\n",
    "            print(indentation + data)\n",
    "\n",
    "\n",
    "with open('C:/Users/jaink/Downloads/w3c.html', 'r') as infile:\n",
    "    content = infile.read()\n",
    "\n",
    "\n",
    "hp = HeadingParser()\n",
    "hp.feed(content)\n"
   ]
  },
  {
   "cell_type": "markdown",
   "id": "f405bf3e",
   "metadata": {},
   "source": [
    "# QUESTION 7"
   ]
  },
  {
   "cell_type": "raw",
   "id": "8b4ef90e",
   "metadata": {},
   "source": [
    "ANSWER"
   ]
  },
  {
   "cell_type": "code",
   "execution_count": 56,
   "id": "369730bd",
   "metadata": {},
   "outputs": [
    {
     "name": "stdout",
     "output_type": "stream",
     "text": [
      "Error: 404 Client Error:  for url: http://reed.cs.depaul.edu/lperkovic/csc242/test1.html\n"
     ]
    }
   ],
   "source": [
    "import requests\n",
    "from bs4 import BeautifulSoup\n",
    "\n",
    "def webdir(url, depth, indent):\n",
    "    \n",
    "    if depth == 0:\n",
    "        return\n",
    "    \n",
    "    try:\n",
    "        \n",
    "        response = requests.get(url)\n",
    "        response.raise_for_status()  \n",
    "        soup = BeautifulSoup(response.text, 'html.parser')\n",
    "        \n",
    "        \n",
    "        print(\" \" * indent + url)\n",
    "        \n",
    "        \n",
    "        links = soup.find_all('a', href=True)\n",
    "        \n",
    "        \n",
    "        for link in links:\n",
    "            new_url = link['href']\n",
    "            if not new_url.startswith('http'):\n",
    "                \n",
    "                new_url = '/'.join(url.split('/')[:-1]) + '/' + new_url\n",
    "            webdir(new_url, depth - 1, indent + 4)\n",
    "    \n",
    "    except requests.exceptions.RequestException as e:\n",
    "        print(\"Error:\", e)\n",
    "    except Exception as e:\n",
    "        print(\"An error occurred:\", e)\n",
    "\n",
    "\n",
    "webdir('http://reed.cs.depaul.edu/lperkovic/csc242/test1.html', 2, 0)\n"
   ]
  },
  {
   "cell_type": "markdown",
   "id": "e4164a30",
   "metadata": {},
   "source": [
    "# QUESTION 8:-"
   ]
  },
  {
   "cell_type": "markdown",
   "id": "f7aa5fa9",
   "metadata": {},
   "source": [
    "ANSWER"
   ]
  },
  {
   "cell_type": "markdown",
   "id": "fe6adb49",
   "metadata": {},
   "source": [
    "Write SQL queries on the below database table that return: "
   ]
  },
  {
   "cell_type": "markdown",
   "id": "a073b057",
   "metadata": {},
   "source": [
    "a) All the temperature data"
   ]
  },
  {
   "cell_type": "markdown",
   "id": "e77a4482",
   "metadata": {},
   "source": [
    "SELECT Temperature\n",
    "FROM table_name;\n",
    "\n"
   ]
  },
  {
   "cell_type": "markdown",
   "id": "8ad7483c",
   "metadata": {},
   "source": [
    "b) All the cities, but without repetition:"
   ]
  },
  {
   "cell_type": "markdown",
   "id": "f4cad41c",
   "metadata": {},
   "source": [
    "SELECT DISTINCT City\n",
    "FROM table_name;\n"
   ]
  },
  {
   "cell_type": "markdown",
   "id": "79228264",
   "metadata": {},
   "source": [
    "c) All the records for India:"
   ]
  },
  {
   "cell_type": "markdown",
   "id": "9696a929",
   "metadata": {},
   "source": [
    "SELECT *\n",
    "FROM table_name\n",
    "WHERE Country = 'India';\n"
   ]
  },
  {
   "cell_type": "markdown",
   "id": "3b25478d",
   "metadata": {},
   "source": [
    "d) All the Fall records:"
   ]
  },
  {
   "cell_type": "markdown",
   "id": "a37e57dc",
   "metadata": {},
   "source": [
    "SELECT *\n",
    "FROM table_name\n",
    "WHERE Season = 'Fall';\n"
   ]
  },
  {
   "cell_type": "markdown",
   "id": "297cc3ca",
   "metadata": {},
   "source": [
    "e) The city, country, and season for which the average rainfall is between 200 and 400 millimeters:"
   ]
  },
  {
   "cell_type": "markdown",
   "id": "18bd17eb",
   "metadata": {},
   "source": [
    "SELECT City, Country, Season\n",
    "FROM table_name\n",
    "GROUP BY City, Country, Season\n",
    "HAVING AVG(Rainfall) BETWEEN 200 AND 400;\n"
   ]
  },
  {
   "cell_type": "markdown",
   "id": "b6d435fa",
   "metadata": {},
   "source": [
    "f) The city and country for which the average Fall temperature is above 20 degrees, in increasing temperature order:"
   ]
  },
  {
   "cell_type": "raw",
   "id": "70b16b32",
   "metadata": {},
   "source": [
    "SELECT City, Country\n",
    "FROM table_name\n",
    "WHERE Season = 'Fall'\n",
    "GROUP BY City, Country\n",
    "HAVING AVG(Temperature) > 20\n",
    "ORDER BY AVG(Temperature) ASC;\n"
   ]
  },
  {
   "cell_type": "markdown",
   "id": "26a56748",
   "metadata": {},
   "source": [
    "g) The total annual rainfall for Cairo:"
   ]
  },
  {
   "cell_type": "raw",
   "id": "88b6b473",
   "metadata": {},
   "source": [
    "SELECT SUM(Rainfall) AS Total_Rainfall\n",
    "FROM table_name\n",
    "WHERE City = 'Cairo';\n"
   ]
  },
  {
   "cell_type": "markdown",
   "id": "47530bab",
   "metadata": {},
   "source": [
    "h) The total rainfall for each season:"
   ]
  },
  {
   "cell_type": "raw",
   "id": "518a2f9f",
   "metadata": {},
   "source": [
    "SELECT Season, SUM(Rainfall) AS Total_Rainfall\n",
    "FROM table_name\n",
    "GROUP BY Season;\n"
   ]
  },
  {
   "cell_type": "markdown",
   "id": "b11790fe",
   "metadata": {},
   "source": [
    "# QUESTION 9"
   ]
  },
  {
   "cell_type": "raw",
   "id": "6cb73ad4",
   "metadata": {},
   "source": [
    "ANSWER:"
   ]
  },
  {
   "cell_type": "raw",
   "id": "0b42b224",
   "metadata": {},
   "source": [
    "A) ['THE', 'QUICK', 'BROWN', 'FOX', 'JUMPS', 'OVER', 'THE',\n",
    "'LAZY', 'DOG']"
   ]
  },
  {
   "cell_type": "code",
   "execution_count": 17,
   "id": "930635b5",
   "metadata": {},
   "outputs": [
    {
     "name": "stdout",
     "output_type": "stream",
     "text": [
      "A) Uppercase Words: ['THE', 'QUICK', 'BROWN', 'FOX', 'JUMPS', 'OVER', 'THE', 'LAZY', 'DOG']\n"
     ]
    }
   ],
   "source": [
    "words = ['The', 'quick', 'brown', 'fox', 'jumps', 'over', 'the', 'lazy', 'dog']\n",
    "uppercase_words = [word.upper() for word in words]\n",
    "print(\"A) Uppercase Words:\", uppercase_words)"
   ]
  },
  {
   "cell_type": "raw",
   "id": "1dec6839",
   "metadata": {},
   "source": [
    "B) ['the', 'quick', 'brown', 'fox', 'jumps', 'over', 'the',\n",
    "'lazy', 'dog']"
   ]
  },
  {
   "cell_type": "code",
   "execution_count": 18,
   "id": "a7b81fbd",
   "metadata": {},
   "outputs": [
    {
     "name": "stdout",
     "output_type": "stream",
     "text": [
      "B) Lowercase Words: ['the', 'quick', 'brown', 'fox', 'jumps', 'over', 'the', 'lazy', 'dog']\n"
     ]
    }
   ],
   "source": [
    "words = ['The', 'quick', 'brown', 'fox', 'jumps', 'over', 'the', 'lazy', 'dog']\n",
    "lowercase_words = [word.lower() for word in words]\n",
    "print(\"B) Lowercase Words:\", lowercase_words)"
   ]
  },
  {
   "cell_type": "raw",
   "id": "756282b4",
   "metadata": {},
   "source": [
    "C) [3, 5, 5, 3, 5, 4, 3, 4, 3] (the list of lengths of words in list\n",
    "words)"
   ]
  },
  {
   "cell_type": "code",
   "execution_count": 19,
   "id": "f1014f15",
   "metadata": {},
   "outputs": [
    {
     "name": "stdout",
     "output_type": "stream",
     "text": [
      "c) Length of Words: [3, 5, 5, 3, 5, 4, 3, 4, 3]\n"
     ]
    }
   ],
   "source": [
    "words = ['The', 'quick', 'brown', 'fox', 'jumps', 'over', 'the', 'lazy', 'dog']\n",
    "word_lengths = [len(word) for word in words]\n",
    "print(\"c) Length of Words:\", word_lengths)"
   ]
  },
  {
   "cell_type": "raw",
   "id": "2ed6bbf6",
   "metadata": {},
   "source": [
    "D) [['THE', 'the', 3], ['QUICK', 'quick', 5], ['BROWN',\n",
    "'brown', 5], ['FOX', 'fox', 3], ['JUMPS', 'jumps', 5],\n",
    "['OVER', 'over', 4], ['THE', 'the', 3], ['LAZY', 'lazy',\n",
    "4], ['DOG', 'dog', 3]] (the list containing a list for every word of list\n",
    "words, where each list contains the word in uppercase and lowercase and the\n",
    "length of the word.)"
   ]
  },
  {
   "cell_type": "code",
   "execution_count": 21,
   "id": "0f9fbe56",
   "metadata": {},
   "outputs": [
    {
     "name": "stdout",
     "output_type": "stream",
     "text": [
      "D) List of Lists (Word, Uppercase Word, Length): [['THE', 'the', 3], ['QUICK', 'quick', 5], ['BROWN', 'brown', 5], ['FOX', 'fox', 3], ['JUMPS', 'jumps', 5], ['OVER', 'over', 4], ['THE', 'the', 3], ['LAZY', 'lazy', 4], ['DOG', 'dog', 3]]\n"
     ]
    }
   ],
   "source": [
    "words = ['The', 'quick', 'brown', 'fox', 'jumps', 'over', 'the', 'lazy', 'dog']\n",
    "list_of_lists = [[word.upper(), word.lower(), len(word)] for word in words]\n",
    "print(\"D) List of Lists (Word, Uppercase Word, Length):\", list_of_lists)"
   ]
  },
  {
   "cell_type": "raw",
   "id": "3e45cc61",
   "metadata": {},
   "source": [
    " E) ['The', 'quick', 'brown', 'fox', 'jumps', 'over', 'the',\n",
    "'lazy', 'dog'] (the list of words in list words containing 4 or more\n",
    "characters.)"
   ]
  },
  {
   "cell_type": "code",
   "execution_count": 22,
   "id": "c94578f4",
   "metadata": {},
   "outputs": [
    {
     "name": "stdout",
     "output_type": "stream",
     "text": [
      "E) Words with 4 or More Characters: ['quick', 'brown', 'jumps', 'over', 'lazy']\n"
     ]
    }
   ],
   "source": [
    "words = ['The', 'quick', 'brown', 'fox', 'jumps', 'over', 'the', 'lazy', 'dog']\n",
    "words_4_or_more = [word for word in words if len(word) >= 4]\n",
    "print(\"E) Words with 4 or More Characters:\", words_4_or_more)"
   ]
  },
  {
   "cell_type": "code",
   "execution_count": null,
   "id": "ec5c2ab8",
   "metadata": {},
   "outputs": [],
   "source": []
  }
 ],
 "metadata": {
  "kernelspec": {
   "display_name": "Python 3 (ipykernel)",
   "language": "python",
   "name": "python3"
  },
  "language_info": {
   "codemirror_mode": {
    "name": "ipython",
    "version": 3
   },
   "file_extension": ".py",
   "mimetype": "text/x-python",
   "name": "python",
   "nbconvert_exporter": "python",
   "pygments_lexer": "ipython3",
   "version": "3.11.4"
  }
 },
 "nbformat": 4,
 "nbformat_minor": 5
}
